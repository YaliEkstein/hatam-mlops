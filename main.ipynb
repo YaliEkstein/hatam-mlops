{
 "cells": [
  {
   "cell_type": "code",
   "execution_count": null,
   "id": "673b7fd7-2610-40b8-9211-daa4ee1e752b",
   "metadata": {},
   "outputs": [],
   "source": [
    "import sys\n",
    "sys.path.append('/home/azureuser/workspace/')"
   ]
  },
  {
   "cell_type": "code",
   "execution_count": null,
   "id": "1d348a59-493f-45de-ac97-f17dc823dc5a",
   "metadata": {},
   "outputs": [],
   "source": [
    "import torch\n",
    "import librosa"
   ]
  },
  {
   "cell_type": "code",
   "execution_count": null,
   "id": "419b3a9e-4d89-430d-9bfe-1cc836a24020",
   "metadata": {},
   "outputs": [],
   "source": [
    "from panns_modules import PannsInput, Cnn14_8k"
   ]
  },
  {
   "cell_type": "code",
   "execution_count": null,
   "id": "e058a957-14a3-46c2-94c4-23badd6329c6",
   "metadata": {},
   "outputs": [],
   "source": [
    "model_config = {\n",
    "    \"sample_rate\": 8000,\n",
    "    \"window_size\": 256,\n",
    "    \"hop_size\": 80,\n",
    "    \"mel_bins\": 64,\n",
    "    \"fmin\": 50,\n",
    "    \"fmax\": 4000,\n",
    "    \"classes_num\": 527,\n",
    "    \"class_label_indices_file_path\": r\"./panns_utils/class_labels_indices.csv\"\n",
    "}"
   ]
  },
  {
   "cell_type": "code",
   "execution_count": null,
   "id": "cefc7f46-9a01-4bc9-879b-80a0a3bd67e4",
   "metadata": {},
   "outputs": [],
   "source": [
    "device = \"cuda\" if torch.cuda.is_available() else \"cpu\""
   ]
  },
  {
   "cell_type": "code",
   "execution_count": null,
   "id": "f2a73abb-efad-4b1e-94de-abd2dc53eec7",
   "metadata": {},
   "outputs": [],
   "source": [
    "model = Cnn14_8k(**model_config).to(device)\n",
    "weights = torch.load(r\"./panns_utils/Cnn14_8k_mAP=0.416.pth\", weights_only=False, map_location=device)\n",
    "model.load_state_dict(weights[\"model\"])\n",
    "model = model.eval()"
   ]
  },
  {
   "cell_type": "markdown",
   "id": "0747f114-917d-4fb2-80e6-54414d5ce532",
   "metadata": {},
   "source": [
    "<audio controls=true src=\"./panns_utils/audios/0125-learn_to_whistle_loud.wav\"/>"
   ]
  },
  {
   "cell_type": "code",
   "execution_count": 1,
   "id": "b5f75d0d-2c03-49ce-8223-6e30e4f92c60",
   "metadata": {},
   "source": [
    "p_input = PannsInput().add_from_file(r'./panns_utils/audios/0125-learn_to_whistle_loud.wav')"
   ]
  },
  {
   "cell_type": "code",
   "execution_count": 1,
   "id": "b5f75d0d-e045-49ce-8223-6e32e4f12c60",
   "metadata": {},
   "source": [
	"out = model(p_input)"
   ]
  }
 ],
 "metadata": {
  "kernelspec": {
   "display_name": "Python 3 (ipykernel)",
   "language": "python",
   "name": "python3"
  },
  "language_info": {
   "codemirror_mode": {
    "name": "ipython",
    "version": 3
   },
   "file_extension": ".py",
   "mimetype": "text/x-python",
   "name": "python",
   "nbconvert_exporter": "python",
   "pygments_lexer": "ipython3",
   "version": "3.10.12"
  }
 },
 "nbformat": 4,
 "nbformat_minor": 5
}
